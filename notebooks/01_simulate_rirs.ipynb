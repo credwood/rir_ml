{
 "cells": [
  {
   "cell_type": "code",
   "execution_count": 1,
   "metadata": {},
   "outputs": [],
   "source": [
    "from pathlib import Path\n",
    "import json\n",
    "\n",
    "import h5py\n",
    "import numpy as np\n",
    "from tqdm import tqdm\n",
    "\n",
    "from core.simulate import simulate_rir\n",
    "\n",
    "\n",
    "np.random.seed(42)"
   ]
  },
  {
   "cell_type": "code",
   "execution_count": 2,
   "metadata": {},
   "outputs": [
    {
     "name": "stderr",
     "output_type": "stream",
     "text": [
      "Simulating RIRs: 100%|██████████| 50000/50000 [04:23<00:00, 189.97it/s]\n"
     ]
    }
   ],
   "source": [
    "# ------------------------------\n",
    "# Configuration\n",
    "# ------------------------------\n",
    "FS = 16000\n",
    "N_SAMPLES = 50000\n",
    "MAX_RIR_LEN = 8192  # All RIRs padded or truncated to this length\n",
    "OUTPUT_PATH = \"data/rir_dataset.h5\"\n",
    "\n",
    "# ------------------------------\n",
    "# Preallocate arrays\n",
    "# ------------------------------\n",
    "rirs = np.zeros((N_SAMPLES, MAX_RIR_LEN), dtype=np.float32)\n",
    "room_dims = np.zeros((N_SAMPLES, 3), dtype=np.float32)\n",
    "absorption = np.zeros(N_SAMPLES, dtype=np.float32)\n",
    "source_pos = np.zeros((N_SAMPLES, 3), dtype=np.float32)\n",
    "mic_pos = np.zeros((N_SAMPLES, 3), dtype=np.float32)\n",
    "max_order = np.zeros(N_SAMPLES, dtype=np.int32)\n",
    "\n",
    "# ------------------------------\n",
    "# Generate RIRs\n",
    "# ------------------------------\n",
    "progress = tqdm(total=N_SAMPLES, desc=\"Simulating RIRs\")\n",
    "valid_count = 0\n",
    "trial = 0\n",
    "\n",
    "while valid_count < N_SAMPLES:\n",
    "    try:\n",
    "        rir, meta = simulate_rir()\n",
    "        rir = np.array(rir, dtype=np.float32)\n",
    "\n",
    "        if len(rir) > MAX_RIR_LEN:\n",
    "            rir = rir[:MAX_RIR_LEN]\n",
    "        else:\n",
    "            rir = np.pad(rir, (0, MAX_RIR_LEN - len(rir)))\n",
    "\n",
    "        rirs[valid_count] = rir\n",
    "        room_dims[valid_count] = meta[\"room_dim\"]\n",
    "        absorption[valid_count] = meta[\"absorption\"]\n",
    "        source_pos[valid_count] = meta[\"source_pos\"]\n",
    "        mic_pos[valid_count] = meta[\"mic_pos\"]\n",
    "        max_order[valid_count] = meta[\"max_order\"]\n",
    "\n",
    "        valid_count += 1\n",
    "        progress.update(1)\n",
    "\n",
    "    except Exception as e:\n",
    "        print(f\"Skipping trial {trial}: {e}\")\n",
    "\n",
    "    trial += 1\n",
    "\n",
    "progress.close()\n",
    "\n",
    "# ------------------------------\n",
    "# Trim arrays to actual count\n",
    "# ------------------------------\n",
    "rirs = rirs[:valid_count]\n",
    "room_dims = room_dims[:valid_count]\n",
    "absorption = absorption[:valid_count]\n",
    "source_pos = source_pos[:valid_count]\n",
    "mic_pos = mic_pos[:valid_count]\n",
    "max_order = max_order[:valid_count]\n",
    "\n",
    "# ------------------------------\n",
    "# Write to HDF5\n",
    "# ------------------------------\n",
    "with h5py.File(OUTPUT_PATH, \"w\") as f:\n",
    "    f.create_dataset(\"rirs\", data=rirs)\n",
    "    f.create_dataset(\"room_dims\", data=room_dims)\n",
    "    f.create_dataset(\"absorption\", data=absorption)\n",
    "    f.create_dataset(\"source_pos\", data=source_pos)\n",
    "    f.create_dataset(\"mic_pos\", data=mic_pos)\n",
    "    f.create_dataset(\"max_order\", data=max_order)\n"
   ]
  },
  {
   "cell_type": "code",
   "execution_count": null,
   "metadata": {},
   "outputs": [],
   "source": []
  },
  {
   "cell_type": "code",
   "execution_count": null,
   "metadata": {},
   "outputs": [],
   "source": []
  }
 ],
 "metadata": {
  "kernelspec": {
   "display_name": "rir_ml",
   "language": "python",
   "name": "python3"
  },
  "language_info": {
   "codemirror_mode": {
    "name": "ipython",
    "version": 3
   },
   "file_extension": ".py",
   "mimetype": "text/x-python",
   "name": "python",
   "nbconvert_exporter": "python",
   "pygments_lexer": "ipython3",
   "version": "3.11.13"
  }
 },
 "nbformat": 4,
 "nbformat_minor": 2
}
