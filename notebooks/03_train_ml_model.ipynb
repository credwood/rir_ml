{
 "cells": [
  {
   "cell_type": "code",
   "execution_count": null,
   "metadata": {},
   "outputs": [],
   "source": [
    "import logging\n",
    "from datetime import datetime\n",
    "import os\n",
    "\n",
    "import torch\n",
    "from torch import optim\n",
    "from tqdm import tqdm\n",
    "\n",
    "from core.dataset_utils import RIRHDF5Dataset, denormalize\n",
    "from core.models import CNN1D\n",
    "from core.training_utils import WeightedMSELoss\n"
   ]
  },
  {
   "cell_type": "code",
   "execution_count": 2,
   "metadata": {},
   "outputs": [],
   "source": [
    "from torch.utils.data import DataLoader, random_split\n",
    "\n",
    "# Full dataset\n",
    "dataset = RIRHDF5Dataset()\n",
    "\n",
    "# Split into train/val\n",
    "train_size = int(0.8 * len(dataset))\n",
    "val_size = len(dataset) - train_size\n",
    "train_set, val_set = random_split(dataset, [train_size, val_size])"
   ]
  },
  {
   "cell_type": "code",
   "execution_count": 3,
   "metadata": {},
   "outputs": [],
   "source": [
    "# Set up log file path\n",
    "timestamp = datetime.now().strftime(\"%Y%m%d_%H%M%S\")\n",
    "log_dir = \"training_logs\"\n",
    "os.makedirs(log_dir, exist_ok=True)\n",
    "log_file = os.path.join(log_dir, f\"train_{timestamp}.log\")\n",
    "\n",
    "# Configure logging\n",
    "logging.basicConfig(\n",
    "    level=logging.INFO,\n",
    "    format=\"%(asctime)s | %(levelname)s | %(message)s\",\n",
    "    handlers=[\n",
    "        logging.FileHandler(log_file),\n",
    "        logging.StreamHandler()\n",
    "    ]\n",
    ")\n",
    "\n",
    "logger = logging.getLogger()"
   ]
  },
  {
   "cell_type": "code",
   "execution_count": null,
   "metadata": {},
   "outputs": [],
   "source": [
    "def train_model(model, train_dataset, val_dataset, num_epochs=20, batch_size=64, lr=1e-3, device='cpu'):\n",
    "    \"\"\"\n",
    "    Trains the model on normalized metrics, using AdamW and validation-based LR scheduler.\n",
    "    \"\"\"\n",
    "    model = model.to(device)\n",
    "    optimizer = optim.AdamW(model.parameters(), lr=lr)\n",
    "    scheduler = optim.lr_scheduler.ReduceLROnPlateau(\n",
    "        optimizer, mode='min', factor=0.5, patience=3, verbose=True\n",
    "    )\n",
    "    metric_weights = [2.0, 1.0, 0.5, 0.5]\n",
    "    criterion = WeightedMSELoss(metric_weights)\n",
    "\n",
    "    train_loader = DataLoader(train_dataset, batch_size=batch_size, shuffle=True, drop_last=True)\n",
    "    val_loader = DataLoader(val_dataset, batch_size=batch_size, shuffle=False)\n",
    "    best_val_loss = float(\"inf\")\n",
    "    \n",
    "    for epoch in range(num_epochs):\n",
    "        model.train()\n",
    "        running_loss = 0.0\n",
    "        for rirs, targets in tqdm(train_loader, desc=f\"Epoch {epoch+1} Training\"):\n",
    "            rirs, targets = rirs.to(device), targets.to(device)\n",
    "            optimizer.zero_grad()\n",
    "            outputs = model(rirs.unsqueeze(1))  # [B, 1, N]\n",
    "            loss = criterion(outputs, targets)\n",
    "            loss.backward()\n",
    "            optimizer.step()\n",
    "            running_loss += loss.item()\n",
    "        avg_train_loss = running_loss / len(train_loader)\n",
    "\n",
    "        # Validation\n",
    "        model.eval()\n",
    "        val_loss = 0.0\n",
    "        mae_sum = torch.zeros(4, device=device)\n",
    "        num_batches = 0\n",
    "        with torch.no_grad():\n",
    "            for rirs, targets in tqdm(val_loader, desc=f\"Epoch {epoch+1} Validation\"):\n",
    "                rirs, targets = rirs.to(device), targets.to(device)\n",
    "                outputs = model(rirs.unsqueeze(1))\n",
    "                loss = criterion(outputs, targets)\n",
    "                val_loss += loss.item()\n",
    "\n",
    "                # Denormalize for metric reporting\n",
    "                outputs_real = denormalize(outputs, val_dataset.target_mean, val_dataset.target_std)\n",
    "                targets_real = denormalize(targets, val_dataset.target_mean, val_dataset.target_std)\n",
    "                mae_batch = torch.mean(torch.abs(outputs_real - targets_real), dim=0)\n",
    "                mae_sum += mae_batch\n",
    "                num_batches += 1\n",
    "\n",
    "        avg_val_loss = val_loss / num_batches\n",
    "        avg_mae = (mae_sum / num_batches).cpu().numpy()\n",
    "\n",
    "        scheduler.step(avg_val_loss)\n",
    "        best_val_loss = min(best_val_loss, avg_val_loss)\n",
    "\n",
    "        if avg_val_loss < best_val_loss:\n",
    "            best_val_loss = avg_val_loss\n",
    "            torch.save(model.state_dict(), \"best_cnn_model.pt\")\n",
    "            logger.info(f\"New best model saved at epoch {epoch+1} with val loss {avg_val_loss:.4f}\")\n",
    "\n",
    "        print(f\"Epoch {epoch+1} | Train Loss: {avg_train_loss:.4f} | Val Loss: {avg_val_loss:.4f}\")\n",
    "        print(f\"Real-World MAE: RT60={avg_mae[0]:.4f}s, EDT={avg_mae[1]:.4f}s, C50={avg_mae[2]:.2f}dB, D50={avg_mae[3]:.3f}\")\n",
    "        logger.info(f\"Epoch {epoch+1:02d} | Train Loss: {avg_train_loss:.4f} | Val Loss: {avg_val_loss:.4f}\")\n",
    "        logger.info(f\"MAE — RT60: {avg_mae[0]:.4f}s | EDT: {avg_mae[1]:.4f}s | C50: {avg_mae[2]:.2f}dB | D50: {avg_mae[3]:.3f}\")\n",
    "\n",
    "    return model\n"
   ]
  },
  {
   "cell_type": "code",
   "execution_count": null,
   "metadata": {},
   "outputs": [],
   "source": [
    "model = CNN1D()\n",
    "model = train_model(model, train_set, val_set, num_epochs=20, batch_size=64, lr=1e-3, device='cpu')"
   ]
  },
  {
   "cell_type": "code",
   "execution_count": null,
   "metadata": {},
   "outputs": [],
   "source": []
  }
 ],
 "metadata": {
  "kernelspec": {
   "display_name": "rir_ml",
   "language": "python",
   "name": "python3"
  },
  "language_info": {
   "codemirror_mode": {
    "name": "ipython",
    "version": 3
   },
   "file_extension": ".py",
   "mimetype": "text/x-python",
   "name": "python",
   "nbconvert_exporter": "python",
   "pygments_lexer": "ipython3",
   "version": "3.11.13"
  }
 },
 "nbformat": 4,
 "nbformat_minor": 2
}
