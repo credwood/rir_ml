{
 "cells": [
  {
   "cell_type": "code",
   "execution_count": 1,
   "metadata": {},
   "outputs": [],
   "source": [
    "from pathlib import Path\n",
    "import json\n",
    "\n",
    "import h5py\n",
    "import numpy as np\n",
    "from tqdm import tqdm\n",
    "\n",
    "from core.acoustics import rt60, edt, c50, d50\n",
    "\n",
    "\n",
    "np.random.seed(42)"
   ]
  },
  {
   "cell_type": "code",
   "execution_count": 2,
   "metadata": {},
   "outputs": [
    {
     "name": "stderr",
     "output_type": "stream",
     "text": [
      "Computing acoustic metrics: 100%|██████████| 50000/50000 [00:20<00:00, 2496.79it/s]\n"
     ]
    }
   ],
   "source": [
    "# --------------------------\n",
    "# File paths\n",
    "# --------------------------\n",
    "DATASET_PATH = \"data/rir_dataset.h5\"\n",
    "OUTPUT_PATH = \"data/rir_metrics.h5\"\n",
    "FS = 16000\n",
    "\n",
    "# --------------------------\n",
    "# Load RIRs\n",
    "# --------------------------\n",
    "with h5py.File(DATASET_PATH, \"r\") as f:\n",
    "    rirs = f[\"rirs\"][:]  # shape: (N, 8192)\n",
    "\n",
    "n_samples = rirs.shape[0]\n",
    "\n",
    "# --------------------------\n",
    "# Allocate metric arrays\n",
    "# --------------------------\n",
    "rt60_vals = np.zeros(n_samples, dtype=np.float32)\n",
    "edt_vals = np.zeros(n_samples, dtype=np.float32)\n",
    "c50_vals = np.zeros(n_samples, dtype=np.float32)\n",
    "d50_vals = np.zeros(n_samples, dtype=np.float32)\n",
    "\n",
    "# --------------------------\n",
    "# Compute metrics\n",
    "# --------------------------\n",
    "for i in tqdm(range(n_samples), desc=\"Computing acoustic metrics\"):\n",
    "    signal = rirs[i]\n",
    "    rt60_vals[i] = rt60(signal, fs=FS)\n",
    "    edt_vals[i] = edt(signal, fs=FS)\n",
    "    c50_vals[i] = c50(signal, fs=FS)\n",
    "    d50_vals[i] = d50(signal, fs=FS)\n",
    "\n",
    "# --------------------------\n",
    "# Save metrics to HDF5\n",
    "# --------------------------\n",
    "with h5py.File(OUTPUT_PATH, \"w\") as f_out:\n",
    "    f_out.create_dataset(\"rt60\", data=rt60_vals)\n",
    "    f_out.create_dataset(\"edt\", data=edt_vals)\n",
    "    f_out.create_dataset(\"c50\", data=c50_vals)\n",
    "    f_out.create_dataset(\"d50\", data=d50_vals)"
   ]
  }
 ],
 "metadata": {
  "kernelspec": {
   "display_name": "rir_ml",
   "language": "python",
   "name": "python3"
  },
  "language_info": {
   "codemirror_mode": {
    "name": "ipython",
    "version": 3
   },
   "file_extension": ".py",
   "mimetype": "text/x-python",
   "name": "python",
   "nbconvert_exporter": "python",
   "pygments_lexer": "ipython3",
   "version": "3.11.13"
  }
 },
 "nbformat": 4,
 "nbformat_minor": 2
}
